{
 "cells": [
  {
   "cell_type": "code",
   "execution_count": 2,
   "metadata": {},
   "outputs": [],
   "source": [
    "import numpy as np "
   ]
  },
  {
   "cell_type": "code",
   "execution_count": 3,
   "metadata": {},
   "outputs": [],
   "source": [
    "#на входе принимает ва массива  одинаковой длины x, y\n",
    "def coeff(x, y): \n",
    "    # n = размер массивов\n",
    "    n = np.size(x) \n",
    "  \n",
    "    #средние числа массивов\n",
    "    m_x, m_y = np.mean(x), np.mean(y) \n",
    "   # находим cross-deviationи  deviation Х\n",
    "    cross_dev = np.sum(y*x) - n*m_y*m_x \n",
    "    dev = np.sum(x*x) - n*m_x*m_x \n",
    "  \n",
    "   # в таком случае коэффицентами регрессии будут\n",
    "    b_1 = cross_dev / dev\n",
    "    b_0 = m_y - b_1*m_x \n",
    "  \n",
    "    return(b_0, b_1) "
   ]
  },
  {
   "cell_type": "code",
   "execution_count": 5,
   "metadata": {},
   "outputs": [
    {
     "name": "stdout",
     "output_type": "stream",
     "text": [
      "(1.2363636363636363, 1.1696969696969697)\n"
     ]
    }
   ],
   "source": [
    "    x = np.array([0, 1, 2, 3, 4, 5, 6, 7, 8, 9]) \n",
    "    y = np.array([1, 3, 2, 5, 7, 8, 8, 9, 10, 12]) \n",
    "  \n",
    "    # estimating coefficients \n",
    "    b = coeff(x, y) \n",
    "    print( b)"
   ]
  },
  {
   "cell_type": "code",
   "execution_count": 13,
   "metadata": {},
   "outputs": [
    {
     "data": {
      "image/png": "[encoded data removed]",
      "text/plain": [
       "<Figure size 432x288 with 1 Axes>"
      ]
     },
     "metadata": {
      "needs_background": "light"
     },
     "output_type": "display_data"
    }
   ],
   "source": [
    "import matplotlib.pyplot as plt \n",
    "plt.scatter(x, y, color = \"r\", \n",
    "               marker = \"o\", s = 30) \n",
    "\n",
    "y_pred = b[0] + b[1]*x \n",
    " \n",
    "plt.plot(x, y_pred, color = \"b\") \n",
    "  \n",
    "plt.xlabel('x') \n",
    "plt.ylabel('y') \n",
    "\n",
    "plt.show() "
   ]
  },
  {
   "cell_type": "code",
   "execution_count": null,
   "metadata": {},
   "outputs": [],
   "source": []
  }
 ],
 "metadata": {
  "kernelspec": {
   "display_name": "Python 3",
   "language": "python",
   "name": "python3"
  },
  "language_info": {
   "codemirror_mode": {
    "name": "ipython",
    "version": 3
   },
   "file_extension": ".py",
   "mimetype": "text/x-python",
   "name": "python",
   "nbconvert_exporter": "python",
   "pygments_lexer": "ipython3",
   "version": "3.7.0"
  }
 },
 "nbformat": 4,
 "nbformat_minor": 2
}
