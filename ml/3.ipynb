{
 "cells": [
  {
   "cell_type": "code",
   "execution_count": 29,
   "metadata": {},
   "outputs": [
    {
     "data": {
      "image/png": "[encoded data removed]",
      "text/plain": [
       "<Figure size 432x288 with 1 Axes>"
      ]
     },
     "metadata": {},
     "output_type": "display_data"
    }
   ],
   "source": [
    "import sys\n",
    "# import math as m\n",
    "import numpy as np\n",
    "from numpy import sin, exp\n",
    "import pandas\n",
    "import matplotlib.pyplot as plt\n",
    "import pylab\n",
    "from scipy import optimize\n",
    "#задаем массив иксов для функции f(x)\n",
    "x = np.arange(1, 30,0.00001);\n",
    "# функция\n",
    "def f(x):\n",
    "    return  sin(x / 5) * exp(x / 10) + 5 * exp(-x / 2)\n",
    "# чертим график функции\n",
    "plt.plot(x, f(x))\n",
    "plt.show()\n"
   ]
  },
  {
   "cell_type": "code",
   "execution_count": null,
   "metadata": {},
   "outputs": [],
   "source": []
  },
  {
   "cell_type": "code",
   "execution_count": 24,
   "metadata": {},
   "outputs": [
    {
     "data": {
      "text/plain": [
       "'4.14'"
      ]
     },
     "execution_count": 24,
     "metadata": {},
     "output_type": "execute_result"
    }
   ],
   "source": [
    "def f(x):\n",
    "    return  sin(x / 5) * exp(x / 10) + 5 * exp(-x / 2)\n",
    "res1 = optimize.minimize(f,2,method='BFGS')\n",
    "\"%.2f\"%res1.x"
   ]
  },
  {
   "cell_type": "code",
   "execution_count": 26,
   "metadata": {},
   "outputs": [
    {
     "data": {
      "text/plain": [
       "'25.88'"
      ]
     },
     "execution_count": 26,
     "metadata": {},
     "output_type": "execute_result"
    }
   ],
   "source": [
    "def f(x):\n",
    "    return  sin(x / 5) * exp(x / 10) + 5 * exp(-x / 2)\n",
    "#30 приближение. \n"
   ]
  },
  {
   "cell_type": "code",
   "execution_count": null,
   "metadata": {},
   "outputs": [],
   "source": []
  }
 ],
 "metadata": {
  "kernelspec": {
   "display_name": "Python 3",
   "language": "python",
   "name": "python3"
  },
  "language_info": {
   "codemirror_mode": {
    "name": "ipython",
    "version": 3
   },
   "file_extension": ".py",
   "mimetype": "text/x-python",
   "name": "python",
   "nbconvert_exporter": "python",
   "pygments_lexer": "ipython3",
   "version": "3.6.5"
  }
 },
 "nbformat": 4,
 "nbformat_minor": 2
}
