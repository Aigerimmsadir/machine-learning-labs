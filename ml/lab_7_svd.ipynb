{
 "cells": [
  {
   "cell_type": "code",
   "execution_count": 8,
   "metadata": {},
   "outputs": [],
   "source": [
    "import numpy as np\n",
    "\n",
    "from scipy import linalg"
   ]
  },
  {
   "cell_type": "code",
   "execution_count": 4,
   "metadata": {},
   "outputs": [],
   "source": [
    "#создаю рандомную матрицу 4х4\n",
    "import random\n",
    "def random_nxn_matrix(n):\n",
    "    A = np.zeros(shape=(n,n))\n",
    "    for i in range(n):\n",
    "        for j in range(n):\n",
    "            A[i][j] = random.randint(1,10)\n",
    "    return A\n",
    "X=random_nxn_matrix(4)"
   ]
  },
  {
   "cell_type": "code",
   "execution_count": null,
   "metadata": {},
   "outputs": [],
   "source": [
    "#ПЕРВАЯ ВЕРСИЯ , РЕАЛИЗАЦИЯ С ПОМОЩЬЮ linalg"
   ]
  },
  {
   "cell_type": "code",
   "execution_count": 5,
   "metadata": {},
   "outputs": [],
   "source": [
    "A=random_nxn_matrix(4)\n",
    "At = A.transpose()\n",
    "A_At = A.dot(At)"
   ]
  },
  {
   "cell_type": "code",
   "execution_count": 6,
   "metadata": {},
   "outputs": [
    {
     "data": {
      "text/plain": [
       "array([[ 8.,  2.,  9.,  1.],\n",
       "       [ 1., 10.,  1.,  1.],\n",
       "       [ 7.,  1.,  8.,  3.],\n",
       "       [ 4., 10.,  1.,  7.]])"
      ]
     },
     "execution_count": 6,
     "metadata": {},
     "output_type": "execute_result"
    }
   ],
   "source": [
    "A"
   ]
  },
  {
   "cell_type": "code",
   "execution_count": 9,
   "metadata": {},
   "outputs": [
    {
     "data": {
      "text/plain": [
       "array([[ 0.54813191,  0.49252425, -0.59937798, -0.31259769],\n",
       "       [ 0.37099583, -0.52400033,  0.28076277, -0.71341294],\n",
       "       [ 0.49741085,  0.44745598,  0.71277299,  0.21052377],\n",
       "       [ 0.56079939, -0.53162643, -0.23210552,  0.59076595]])"
      ]
     },
     "execution_count": 9,
     "metadata": {},
     "output_type": "execute_result"
    }
   ],
   "source": [
    "U, S = linalg.eig(A_At)\n",
    "S"
   ]
  },
  {
   "cell_type": "code",
   "execution_count": 10,
   "metadata": {},
   "outputs": [],
   "source": [
    "S = np.diag(np.sqrt(U))\n",
    "V = At.dot(U).dot(linalg.inv(S))"
   ]
  },
  {
   "cell_type": "code",
   "execution_count": 11,
   "metadata": {},
   "outputs": [],
   "source": [
    "Vt = V.transpose()\n",
    "USVt = U.dot(S).dot(Vt)"
   ]
  },
  {
   "cell_type": "code",
   "execution_count": 12,
   "metadata": {},
   "outputs": [
    {
     "data": {
      "text/plain": [
       "(1561493.8707820526+0j)"
      ]
     },
     "execution_count": 12,
     "metadata": {},
     "output_type": "execute_result"
    }
   ],
   "source": [
    "USVt\n"
   ]
  },
  {
   "cell_type": "code",
   "execution_count": null,
   "metadata": {},
   "outputs": [],
   "source": []
  },
  {
   "cell_type": "code",
   "execution_count": null,
   "metadata": {},
   "outputs": [],
   "source": []
  },
  {
   "cell_type": "code",
   "execution_count": null,
   "metadata": {},
   "outputs": [],
   "source": []
  },
  {
   "cell_type": "code",
   "execution_count": null,
   "metadata": {},
   "outputs": [],
   "source": []
  },
  {
   "cell_type": "code",
   "execution_count": 14,
   "metadata": {},
   "outputs": [],
   "source": [
    "# ДРУГАЯ ВЕРСИЯ С ПОМОЩЬЮ ГОТОВОЙ ФУНКЦИИ DECOMPOSITION"
   ]
  },
  {
   "cell_type": "code",
   "execution_count": 17,
   "metadata": {},
   "outputs": [],
   "source": [
    "import sklearn\n",
    "from sklearn import decomposition\n",
    "from sklearn.decomposition import PCA"
   ]
  },
  {
   "cell_type": "code",
   "execution_count": 18,
   "metadata": {},
   "outputs": [
    {
     "name": "stdout",
     "output_type": "stream",
     "text": [
      "1.964100414504268 4.077055880834024 -0.3806900396659854 5.330743864978679e-17  \n",
      "7.087748897854507 -2.1910596976467316 0.2967708919527319 5.330743864978679e-17  \n",
      "-4.06024262067567 -2.031662392574168 -1.0058716537653156 5.3307438649786805e-17  \n",
      "-4.991606691683103 0.14566620938687738 1.0897908014785693 5.3307438649786786e-17  \n"
     ]
    }
   ],
   "source": [
    "pca = decomposition.PCA()\n",
    "#Fit the model with X and apply the dimensionality reduction on X.\n",
    "_pca = pca.fit_transform(X)\n",
    "for i in _pca:\n",
    "    for j in i:\n",
    "        print (j,end=' ')\n",
    "    print(' ')"
   ]
  },
  {
   "cell_type": "code",
   "execution_count": null,
   "metadata": {},
   "outputs": [],
   "source": []
  }
 ],
 "metadata": {
  "kernelspec": {
   "display_name": "Python 3",
   "language": "python",
   "name": "python3"
  },
  "language_info": {
   "codemirror_mode": {
    "name": "ipython",
    "version": 3
   },
   "file_extension": ".py",
   "mimetype": "text/x-python",
   "name": "python",
   "nbconvert_exporter": "python",
   "pygments_lexer": "ipython3",
   "version": "3.7.0"
  }
 },
 "nbformat": 4,
 "nbformat_minor": 2
}
